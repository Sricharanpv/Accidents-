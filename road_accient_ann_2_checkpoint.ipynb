{
  "cells": [
    {
      "cell_type": "code",
      "execution_count": null,
      "id": "f8861e62",
      "metadata": {
        "id": "f8861e62"
      },
      "outputs": [],
      "source": [
        "import pandas as pd\n",
        "import numpy as np\n",
        "from sklearn import metrics\n",
        "from sklearn.metrics import classification_report, confusion_matrix\n",
        "import seaborn as sns\n",
        "from matplotlib import pyplot as plt\n",
        "import tensorflow as tf\n",
        "from keras.models import Sequential\n",
        "from keras.layers import Dense"
      ]
    },
    {
      "cell_type": "code",
      "execution_count": null,
      "id": "254c4ff6",
      "metadata": {
        "colab": {
          "base_uri": "https://localhost:8080/",
          "height": 339
        },
        "id": "254c4ff6",
        "outputId": "070397ed-61f4-4b2a-babb-0b7e8a7d6f29"
      },
      "outputs": [
        {
          "output_type": "error",
          "ename": "FileNotFoundError",
          "evalue": "[Errno 2] No such file or directory: 'C:\\\\Users\\\\Kusha\\\\Desktop\\\\road_accident_main\\\\Accident_Information\\\\Accident_Information.csv'",
          "traceback": [
            "\u001b[0;31m---------------------------------------------------------------------------\u001b[0m",
            "\u001b[0;31mFileNotFoundError\u001b[0m                         Traceback (most recent call last)",
            "\u001b[0;32m<ipython-input-8-b13e08136769>\u001b[0m in \u001b[0;36m<cell line: 1>\u001b[0;34m()\u001b[0m\n\u001b[0;32m----> 1\u001b[0;31m \u001b[0mdf\u001b[0m \u001b[0;34m=\u001b[0m \u001b[0mpd\u001b[0m\u001b[0;34m.\u001b[0m\u001b[0mread_csv\u001b[0m\u001b[0;34m(\u001b[0m\u001b[0;34mr'C:\\Users\\Kusha\\Desktop\\road_accident_main\\Accident_Information\\Accident_Information.csv'\u001b[0m\u001b[0;34m)\u001b[0m\u001b[0;34m\u001b[0m\u001b[0;34m\u001b[0m\u001b[0m\n\u001b[0m\u001b[1;32m      2\u001b[0m \u001b[0mdf\u001b[0m\u001b[0;34m\u001b[0m\u001b[0;34m\u001b[0m\u001b[0m\n",
            "\u001b[0;32m/usr/local/lib/python3.10/dist-packages/pandas/io/parsers/readers.py\u001b[0m in \u001b[0;36mread_csv\u001b[0;34m(filepath_or_buffer, sep, delimiter, header, names, index_col, usecols, dtype, engine, converters, true_values, false_values, skipinitialspace, skiprows, skipfooter, nrows, na_values, keep_default_na, na_filter, verbose, skip_blank_lines, parse_dates, infer_datetime_format, keep_date_col, date_parser, date_format, dayfirst, cache_dates, iterator, chunksize, compression, thousands, decimal, lineterminator, quotechar, quoting, doublequote, escapechar, comment, encoding, encoding_errors, dialect, on_bad_lines, delim_whitespace, low_memory, memory_map, float_precision, storage_options, dtype_backend)\u001b[0m\n\u001b[1;32m    910\u001b[0m     \u001b[0mkwds\u001b[0m\u001b[0;34m.\u001b[0m\u001b[0mupdate\u001b[0m\u001b[0;34m(\u001b[0m\u001b[0mkwds_defaults\u001b[0m\u001b[0;34m)\u001b[0m\u001b[0;34m\u001b[0m\u001b[0;34m\u001b[0m\u001b[0m\n\u001b[1;32m    911\u001b[0m \u001b[0;34m\u001b[0m\u001b[0m\n\u001b[0;32m--> 912\u001b[0;31m     \u001b[0;32mreturn\u001b[0m \u001b[0m_read\u001b[0m\u001b[0;34m(\u001b[0m\u001b[0mfilepath_or_buffer\u001b[0m\u001b[0;34m,\u001b[0m \u001b[0mkwds\u001b[0m\u001b[0;34m)\u001b[0m\u001b[0;34m\u001b[0m\u001b[0;34m\u001b[0m\u001b[0m\n\u001b[0m\u001b[1;32m    913\u001b[0m \u001b[0;34m\u001b[0m\u001b[0m\n\u001b[1;32m    914\u001b[0m \u001b[0;34m\u001b[0m\u001b[0m\n",
            "\u001b[0;32m/usr/local/lib/python3.10/dist-packages/pandas/io/parsers/readers.py\u001b[0m in \u001b[0;36m_read\u001b[0;34m(filepath_or_buffer, kwds)\u001b[0m\n\u001b[1;32m    575\u001b[0m \u001b[0;34m\u001b[0m\u001b[0m\n\u001b[1;32m    576\u001b[0m     \u001b[0;31m# Create the parser.\u001b[0m\u001b[0;34m\u001b[0m\u001b[0;34m\u001b[0m\u001b[0m\n\u001b[0;32m--> 577\u001b[0;31m     \u001b[0mparser\u001b[0m \u001b[0;34m=\u001b[0m \u001b[0mTextFileReader\u001b[0m\u001b[0;34m(\u001b[0m\u001b[0mfilepath_or_buffer\u001b[0m\u001b[0;34m,\u001b[0m \u001b[0;34m**\u001b[0m\u001b[0mkwds\u001b[0m\u001b[0;34m)\u001b[0m\u001b[0;34m\u001b[0m\u001b[0;34m\u001b[0m\u001b[0m\n\u001b[0m\u001b[1;32m    578\u001b[0m \u001b[0;34m\u001b[0m\u001b[0m\n\u001b[1;32m    579\u001b[0m     \u001b[0;32mif\u001b[0m \u001b[0mchunksize\u001b[0m \u001b[0;32mor\u001b[0m \u001b[0miterator\u001b[0m\u001b[0;34m:\u001b[0m\u001b[0;34m\u001b[0m\u001b[0;34m\u001b[0m\u001b[0m\n",
            "\u001b[0;32m/usr/local/lib/python3.10/dist-packages/pandas/io/parsers/readers.py\u001b[0m in \u001b[0;36m__init__\u001b[0;34m(self, f, engine, **kwds)\u001b[0m\n\u001b[1;32m   1405\u001b[0m \u001b[0;34m\u001b[0m\u001b[0m\n\u001b[1;32m   1406\u001b[0m         \u001b[0mself\u001b[0m\u001b[0;34m.\u001b[0m\u001b[0mhandles\u001b[0m\u001b[0;34m:\u001b[0m \u001b[0mIOHandles\u001b[0m \u001b[0;34m|\u001b[0m \u001b[0;32mNone\u001b[0m \u001b[0;34m=\u001b[0m \u001b[0;32mNone\u001b[0m\u001b[0;34m\u001b[0m\u001b[0;34m\u001b[0m\u001b[0m\n\u001b[0;32m-> 1407\u001b[0;31m         \u001b[0mself\u001b[0m\u001b[0;34m.\u001b[0m\u001b[0m_engine\u001b[0m \u001b[0;34m=\u001b[0m \u001b[0mself\u001b[0m\u001b[0;34m.\u001b[0m\u001b[0m_make_engine\u001b[0m\u001b[0;34m(\u001b[0m\u001b[0mf\u001b[0m\u001b[0;34m,\u001b[0m \u001b[0mself\u001b[0m\u001b[0;34m.\u001b[0m\u001b[0mengine\u001b[0m\u001b[0;34m)\u001b[0m\u001b[0;34m\u001b[0m\u001b[0;34m\u001b[0m\u001b[0m\n\u001b[0m\u001b[1;32m   1408\u001b[0m \u001b[0;34m\u001b[0m\u001b[0m\n\u001b[1;32m   1409\u001b[0m     \u001b[0;32mdef\u001b[0m \u001b[0mclose\u001b[0m\u001b[0;34m(\u001b[0m\u001b[0mself\u001b[0m\u001b[0;34m)\u001b[0m \u001b[0;34m->\u001b[0m \u001b[0;32mNone\u001b[0m\u001b[0;34m:\u001b[0m\u001b[0;34m\u001b[0m\u001b[0;34m\u001b[0m\u001b[0m\n",
            "\u001b[0;32m/usr/local/lib/python3.10/dist-packages/pandas/io/parsers/readers.py\u001b[0m in \u001b[0;36m_make_engine\u001b[0;34m(self, f, engine)\u001b[0m\n\u001b[1;32m   1659\u001b[0m                 \u001b[0;32mif\u001b[0m \u001b[0;34m\"b\"\u001b[0m \u001b[0;32mnot\u001b[0m \u001b[0;32min\u001b[0m \u001b[0mmode\u001b[0m\u001b[0;34m:\u001b[0m\u001b[0;34m\u001b[0m\u001b[0;34m\u001b[0m\u001b[0m\n\u001b[1;32m   1660\u001b[0m                     \u001b[0mmode\u001b[0m \u001b[0;34m+=\u001b[0m \u001b[0;34m\"b\"\u001b[0m\u001b[0;34m\u001b[0m\u001b[0;34m\u001b[0m\u001b[0m\n\u001b[0;32m-> 1661\u001b[0;31m             self.handles = get_handle(\n\u001b[0m\u001b[1;32m   1662\u001b[0m                 \u001b[0mf\u001b[0m\u001b[0;34m,\u001b[0m\u001b[0;34m\u001b[0m\u001b[0;34m\u001b[0m\u001b[0m\n\u001b[1;32m   1663\u001b[0m                 \u001b[0mmode\u001b[0m\u001b[0;34m,\u001b[0m\u001b[0;34m\u001b[0m\u001b[0;34m\u001b[0m\u001b[0m\n",
            "\u001b[0;32m/usr/local/lib/python3.10/dist-packages/pandas/io/common.py\u001b[0m in \u001b[0;36mget_handle\u001b[0;34m(path_or_buf, mode, encoding, compression, memory_map, is_text, errors, storage_options)\u001b[0m\n\u001b[1;32m    857\u001b[0m         \u001b[0;32mif\u001b[0m \u001b[0mioargs\u001b[0m\u001b[0;34m.\u001b[0m\u001b[0mencoding\u001b[0m \u001b[0;32mand\u001b[0m \u001b[0;34m\"b\"\u001b[0m \u001b[0;32mnot\u001b[0m \u001b[0;32min\u001b[0m \u001b[0mioargs\u001b[0m\u001b[0;34m.\u001b[0m\u001b[0mmode\u001b[0m\u001b[0;34m:\u001b[0m\u001b[0;34m\u001b[0m\u001b[0;34m\u001b[0m\u001b[0m\n\u001b[1;32m    858\u001b[0m             \u001b[0;31m# Encoding\u001b[0m\u001b[0;34m\u001b[0m\u001b[0;34m\u001b[0m\u001b[0m\n\u001b[0;32m--> 859\u001b[0;31m             handle = open(\n\u001b[0m\u001b[1;32m    860\u001b[0m                 \u001b[0mhandle\u001b[0m\u001b[0;34m,\u001b[0m\u001b[0;34m\u001b[0m\u001b[0;34m\u001b[0m\u001b[0m\n\u001b[1;32m    861\u001b[0m                 \u001b[0mioargs\u001b[0m\u001b[0;34m.\u001b[0m\u001b[0mmode\u001b[0m\u001b[0;34m,\u001b[0m\u001b[0;34m\u001b[0m\u001b[0;34m\u001b[0m\u001b[0m\n",
            "\u001b[0;31mFileNotFoundError\u001b[0m: [Errno 2] No such file or directory: 'C:\\\\Users\\\\Kusha\\\\Desktop\\\\road_accident_main\\\\Accident_Information\\\\Accident_Information.csv'"
          ]
        }
      ],
      "source": [
        "df = pd.read_csv(r'C:\\Users\\Kusha\\Desktop\\road_accident_main\\Accident_Information\\Accident_Information.csv')\n",
        "df"
      ]
    },
    {
      "cell_type": "code",
      "execution_count": null,
      "id": "56ea7ef3",
      "metadata": {
        "id": "56ea7ef3",
        "colab": {
          "base_uri": "https://localhost:8080/",
          "height": 211
        },
        "outputId": "805988d4-6d81-4a52-8e76-29867b15ebf6"
      },
      "outputs": [
        {
          "output_type": "error",
          "ename": "NameError",
          "evalue": "name 'df' is not defined",
          "traceback": [
            "\u001b[0;31m---------------------------------------------------------------------------\u001b[0m",
            "\u001b[0;31mNameError\u001b[0m                                 Traceback (most recent call last)",
            "\u001b[0;32m<ipython-input-9-814fc29620c6>\u001b[0m in \u001b[0;36m<cell line: 4>\u001b[0;34m()\u001b[0m\n\u001b[1;32m      2\u001b[0m \u001b[0;34m\"Carriageway_Hazards\"\u001b[0m\u001b[0;34m:\u001b[0m \u001b[0;34m{\u001b[0m\u001b[0;34m\"None\"\u001b[0m\u001b[0;34m:\u001b[0m \u001b[0;36m0\u001b[0m\u001b[0;34m,\u001b[0m \u001b[0;34m\"Other object on road\"\u001b[0m\u001b[0;34m:\u001b[0m \u001b[0;36m1\u001b[0m\u001b[0;34m,\u001b[0m \u001b[0;34m\"Any animal in carriageway (except ridden horse)\"\u001b[0m\u001b[0;34m:\u001b[0m \u001b[0;36m1\u001b[0m\u001b[0;34m,\u001b[0m  \u001b[0;34m\"Pedestrian in carriageway - not injured\"\u001b[0m\u001b[0;34m:\u001b[0m \u001b[0;36m1\u001b[0m\u001b[0;34m,\u001b[0m \u001b[0;34m\"Previous accident\"\u001b[0m\u001b[0;34m:\u001b[0m \u001b[0;36m1\u001b[0m\u001b[0;34m,\u001b[0m \u001b[0;34m\"Vehicle load on road\"\u001b[0m\u001b[0;34m:\u001b[0m \u001b[0;36m1\u001b[0m\u001b[0;34m,\u001b[0m  \u001b[0;34m\"Data missing or out of range\"\u001b[0m\u001b[0;34m:\u001b[0m \u001b[0;36m0\u001b[0m  \u001b[0;34m}\u001b[0m\u001b[0;34m\u001b[0m\u001b[0;34m\u001b[0m\u001b[0m\n\u001b[1;32m      3\u001b[0m }\n\u001b[0;32m----> 4\u001b[0;31m \u001b[0mdf\u001b[0m\u001b[0;34m.\u001b[0m\u001b[0mreplace\u001b[0m\u001b[0;34m(\u001b[0m\u001b[0mencoding\u001b[0m\u001b[0;34m,\u001b[0m \u001b[0minplace\u001b[0m\u001b[0;34m=\u001b[0m\u001b[0;32mTrue\u001b[0m\u001b[0;34m)\u001b[0m\u001b[0;34m\u001b[0m\u001b[0;34m\u001b[0m\u001b[0m\n\u001b[0m\u001b[1;32m      5\u001b[0m \u001b[0mprint\u001b[0m\u001b[0;34m(\u001b[0m\u001b[0mdf\u001b[0m\u001b[0;34m[\u001b[0m\u001b[0;34m'Carriageway_Hazards'\u001b[0m\u001b[0;34m]\u001b[0m\u001b[0;34m.\u001b[0m\u001b[0mvalue_counts\u001b[0m\u001b[0;34m(\u001b[0m\u001b[0;34m)\u001b[0m\u001b[0;34m)\u001b[0m\u001b[0;34m\u001b[0m\u001b[0;34m\u001b[0m\u001b[0m\n",
            "\u001b[0;31mNameError\u001b[0m: name 'df' is not defined"
          ]
        }
      ],
      "source": [
        "encoding = {\n",
        "\"Carriageway_Hazards\": {\"None\": 0, \"Other object on road\": 1, \"Any animal in carriageway (except ridden horse)\": 1,  \"Pedestrian in carriageway - not injured\": 1, \"Previous accident\": 1, \"Vehicle load on road\": 1,  \"Data missing or out of range\": 0  }\n",
        "}\n",
        "df.replace(encoding, inplace=True)\n",
        "print(df['Carriageway_Hazards'].value_counts())"
      ]
    },
    {
      "cell_type": "code",
      "execution_count": null,
      "id": "35d48fdf",
      "metadata": {
        "id": "35d48fdf",
        "colab": {
          "base_uri": "https://localhost:8080/",
          "height": 211
        },
        "outputId": "3ffc7921-991a-4b0c-bb3d-13816e153d3b"
      },
      "outputs": [
        {
          "output_type": "error",
          "ename": "NameError",
          "evalue": "name 'df' is not defined",
          "traceback": [
            "\u001b[0;31m---------------------------------------------------------------------------\u001b[0m",
            "\u001b[0;31mNameError\u001b[0m                                 Traceback (most recent call last)",
            "\u001b[0;32m<ipython-input-10-1e1663621a03>\u001b[0m in \u001b[0;36m<cell line: 1>\u001b[0;34m()\u001b[0m\n\u001b[0;32m----> 1\u001b[0;31m \u001b[0mprint\u001b[0m\u001b[0;34m(\u001b[0m\u001b[0mdf\u001b[0m\u001b[0;34m[\u001b[0m\u001b[0;34m'Light_Conditions'\u001b[0m\u001b[0;34m]\u001b[0m\u001b[0;34m.\u001b[0m\u001b[0mvalue_counts\u001b[0m\u001b[0;34m(\u001b[0m\u001b[0;34m)\u001b[0m\u001b[0;34m)\u001b[0m\u001b[0;34m\u001b[0m\u001b[0;34m\u001b[0m\u001b[0m\n\u001b[0m\u001b[1;32m      2\u001b[0m \u001b[0mencoding_light\u001b[0m \u001b[0;34m=\u001b[0m \u001b[0;34m{\u001b[0m\u001b[0;34m\"Light_Conditions\"\u001b[0m\u001b[0;34m:\u001b[0m \u001b[0;34m{\u001b[0m\u001b[0;34m\"Daylight\"\u001b[0m\u001b[0;34m:\u001b[0m \u001b[0;36m0\u001b[0m\u001b[0;34m,\u001b[0m \u001b[0;34m\"Darkness - lights lit\"\u001b[0m\u001b[0;34m:\u001b[0m \u001b[0;36m1\u001b[0m\u001b[0;34m,\u001b[0m \u001b[0;34m\"Darkness - no lighting\"\u001b[0m\u001b[0;34m:\u001b[0m \u001b[0;36m1\u001b[0m\u001b[0;34m,\u001b[0m \u001b[0;34m\"Darkness - lighting unknown\"\u001b[0m\u001b[0;34m:\u001b[0m \u001b[0;36m1\u001b[0m\u001b[0;34m,\u001b[0m \u001b[0;34m\"Darkness - lights unlit\"\u001b[0m\u001b[0;34m:\u001b[0m \u001b[0;36m1\u001b[0m\u001b[0;34m,\u001b[0m \u001b[0;34m\"Data missing or out of range\"\u001b[0m\u001b[0;34m:\u001b[0m \u001b[0;36m0\u001b[0m\u001b[0;34m}\u001b[0m\u001b[0;34m}\u001b[0m\u001b[0;34m\u001b[0m\u001b[0;34m\u001b[0m\u001b[0m\n\u001b[1;32m      3\u001b[0m \u001b[0mdf\u001b[0m\u001b[0;34m.\u001b[0m\u001b[0mreplace\u001b[0m\u001b[0;34m(\u001b[0m\u001b[0mencoding_light\u001b[0m\u001b[0;34m,\u001b[0m \u001b[0minplace\u001b[0m\u001b[0;34m=\u001b[0m\u001b[0;32mTrue\u001b[0m\u001b[0;34m)\u001b[0m\u001b[0;34m\u001b[0m\u001b[0;34m\u001b[0m\u001b[0m\n\u001b[1;32m      4\u001b[0m \u001b[0mprint\u001b[0m\u001b[0;34m(\u001b[0m\u001b[0mdf\u001b[0m\u001b[0;34m[\u001b[0m\u001b[0;34m'Light_Conditions'\u001b[0m\u001b[0;34m]\u001b[0m\u001b[0;34m.\u001b[0m\u001b[0mvalue_counts\u001b[0m\u001b[0;34m(\u001b[0m\u001b[0;34m)\u001b[0m\u001b[0;34m)\u001b[0m\u001b[0;34m\u001b[0m\u001b[0;34m\u001b[0m\u001b[0m\n",
            "\u001b[0;31mNameError\u001b[0m: name 'df' is not defined"
          ]
        }
      ],
      "source": [
        "print(df['Light_Conditions'].value_counts())\n",
        "encoding_light = {\"Light_Conditions\": {\"Daylight\": 0, \"Darkness - lights lit\": 1, \"Darkness - no lighting\": 1, \"Darkness - lighting unknown\": 1, \"Darkness - lights unlit\": 1, \"Data missing or out of range\": 0}}\n",
        "df.replace(encoding_light, inplace=True)\n",
        "print(df['Light_Conditions'].value_counts())"
      ]
    },
    {
      "cell_type": "code",
      "execution_count": null,
      "id": "4ecd86b5",
      "metadata": {
        "id": "4ecd86b5",
        "colab": {
          "base_uri": "https://localhost:8080/",
          "height": 193
        },
        "outputId": "e7b65fed-ed33-43b8-a11f-72d50957580b"
      },
      "outputs": [
        {
          "output_type": "error",
          "ename": "NameError",
          "evalue": "name 'df' is not defined",
          "traceback": [
            "\u001b[0;31m---------------------------------------------------------------------------\u001b[0m",
            "\u001b[0;31mNameError\u001b[0m                                 Traceback (most recent call last)",
            "\u001b[0;32m<ipython-input-4-84275cafcc80>\u001b[0m in \u001b[0;36m<cell line: 1>\u001b[0;34m()\u001b[0m\n\u001b[0;32m----> 1\u001b[0;31m \u001b[0mprint\u001b[0m\u001b[0;34m(\u001b[0m\u001b[0mdf\u001b[0m\u001b[0;34m[\u001b[0m\u001b[0;34m'Day_of_Week'\u001b[0m\u001b[0;34m]\u001b[0m\u001b[0;34m.\u001b[0m\u001b[0mvalue_counts\u001b[0m\u001b[0;34m(\u001b[0m\u001b[0;34m)\u001b[0m\u001b[0;34m)\u001b[0m\u001b[0;34m\u001b[0m\u001b[0;34m\u001b[0m\u001b[0m\n\u001b[0m\u001b[1;32m      2\u001b[0m \u001b[0mencoding_day_of_week\u001b[0m \u001b[0;34m=\u001b[0m \u001b[0;34m{\u001b[0m\u001b[0;34m\"Day_of_Week\"\u001b[0m\u001b[0;34m:\u001b[0m \u001b[0;34m{\u001b[0m\u001b[0;34m\"Saturday\"\u001b[0m\u001b[0;34m:\u001b[0m \u001b[0;36m1\u001b[0m\u001b[0;34m,\u001b[0m \u001b[0;34m\"Sunday\"\u001b[0m\u001b[0;34m:\u001b[0m \u001b[0;36m1\u001b[0m\u001b[0;34m,\u001b[0m \u001b[0;34m\"Monday\"\u001b[0m\u001b[0;34m:\u001b[0m \u001b[0;36m0\u001b[0m\u001b[0;34m,\u001b[0m \u001b[0;34m\"Tuesday\"\u001b[0m\u001b[0;34m:\u001b[0m \u001b[0;36m0\u001b[0m\u001b[0;34m,\u001b[0m \u001b[0;34m\"Wednesday\"\u001b[0m\u001b[0;34m:\u001b[0m \u001b[0;36m0\u001b[0m\u001b[0;34m,\u001b[0m \u001b[0;34m\"Thursday\"\u001b[0m\u001b[0;34m:\u001b[0m \u001b[0;36m0\u001b[0m\u001b[0;34m,\u001b[0m \u001b[0;34m\"Friday\"\u001b[0m\u001b[0;34m:\u001b[0m \u001b[0;36m0\u001b[0m\u001b[0;34m}\u001b[0m\u001b[0;34m}\u001b[0m\u001b[0;34m\u001b[0m\u001b[0;34m\u001b[0m\u001b[0m\n\u001b[1;32m      3\u001b[0m \u001b[0mdf\u001b[0m\u001b[0;34m.\u001b[0m\u001b[0mreplace\u001b[0m\u001b[0;34m(\u001b[0m\u001b[0mencoding_day_of_week\u001b[0m\u001b[0;34m,\u001b[0m \u001b[0minplace\u001b[0m\u001b[0;34m=\u001b[0m\u001b[0;32mTrue\u001b[0m\u001b[0;34m)\u001b[0m\u001b[0;34m\u001b[0m\u001b[0;34m\u001b[0m\u001b[0m\n\u001b[1;32m      4\u001b[0m \u001b[0mprint\u001b[0m\u001b[0;34m(\u001b[0m\u001b[0mdf\u001b[0m\u001b[0;34m[\u001b[0m\u001b[0;34m'Day_of_Week'\u001b[0m\u001b[0;34m]\u001b[0m\u001b[0;34m.\u001b[0m\u001b[0mvalue_counts\u001b[0m\u001b[0;34m(\u001b[0m\u001b[0;34m)\u001b[0m\u001b[0;34m)\u001b[0m\u001b[0;34m\u001b[0m\u001b[0;34m\u001b[0m\u001b[0m\n",
            "\u001b[0;31mNameError\u001b[0m: name 'df' is not defined"
          ]
        }
      ],
      "source": [
        "print(df['Day_of_Week'].value_counts())\n",
        "encoding_day_of_week = {\"Day_of_Week\": {\"Saturday\": 1, \"Sunday\": 1, \"Monday\": 0, \"Tuesday\": 0, \"Wednesday\": 0, \"Thursday\": 0, \"Friday\": 0}}\n",
        "df.replace(encoding_day_of_week, inplace=True)\n",
        "print(df['Day_of_Week'].value_counts())"
      ]
    },
    {
      "cell_type": "code",
      "execution_count": null,
      "id": "238b88ea",
      "metadata": {
        "id": "238b88ea"
      },
      "outputs": [],
      "source": [
        "print(df['Special_Conditions_at_Site'].value_counts())\n",
        "encoding_Special_Conditions_at_Site = {\"Special_Conditions_at_Site\": {\"None\": 0, \"Roadworks\": 1, \"Oil or diesel\": 1, \"Mud\": 1, \"Road surface defective\": 1, \"Auto traffic signal - out\": 1, \"Road sign or marking defective or obscured\": 1, \"Auto signal part defective\": 1, \"Data missing or out of range\": 0}}\n",
        "df.replace(encoding_Special_Conditions_at_Site, inplace=True)\n",
        "print(df['Special_Conditions_at_Site'].value_counts())"
      ]
    },
    {
      "cell_type": "code",
      "execution_count": null,
      "id": "d9a1f935",
      "metadata": {
        "id": "d9a1f935"
      },
      "outputs": [],
      "source": [
        "encoding_1st_road_class = {\"1st_Road_Class\": {\"A\": 1, \"A(M)\": 1, \"B\": 2, \"C\": 3, \"Motorway\": 4, \"Unclassified\": 1}}\n",
        "df.replace(encoding_1st_road_class, inplace=True)\n",
        "df['1st_Road_Class'].value_counts()"
      ]
    },
    {
      "cell_type": "code",
      "execution_count": null,
      "id": "d544e87e",
      "metadata": {
        "id": "d544e87e"
      },
      "outputs": [],
      "source": [
        "#replacing 'Data missing or out of range' with most occured value 'Give way or uncontrolled'\n",
        "df['Junction_Control'] = df['Junction_Control'].replace(['Data missing or out of range'], 'Give way or uncontrolled')"
      ]
    },
    {
      "cell_type": "code",
      "execution_count": null,
      "id": "fe64f4a8",
      "metadata": {
        "id": "fe64f4a8"
      },
      "outputs": [],
      "source": [
        "df['Junction_Control'].value_counts()"
      ]
    },
    {
      "cell_type": "code",
      "execution_count": null,
      "id": "5561cdd1",
      "metadata": {
        "id": "5561cdd1"
      },
      "outputs": [],
      "source": [
        "encoding_junction_detail = {\"Junction_Control\":\n",
        "                            {\"Give way or uncontrolled\": 1,\n",
        "                             \"Auto traffic signal\": 2,\n",
        "                             \"Not at junction or within 20 metres\": 3,\n",
        "                             \"Stop sign\": 4,\n",
        "                             \"Authorised person\": 5,\n",
        "                              }}\n",
        "df.replace(encoding_junction_detail, inplace=True)\n",
        "df['Junction_Control'].value_counts()"
      ]
    },
    {
      "cell_type": "code",
      "execution_count": null,
      "id": "527c25b9",
      "metadata": {
        "id": "527c25b9"
      },
      "outputs": [],
      "source": [
        "encoding_junction_detail = {\"Junction_Detail\":\n",
        "                            {\"Not at junction or within 20 metres\": 1,\n",
        "                             \"T or staggered junction\": 2,\n",
        "                             \"Crossroads\": 3,\n",
        "                             \"Roundabout\": 4,\n",
        "                             \"Private drive or entrance\": 5,\n",
        "                             \"Other junction\": 6,\n",
        "                             \"Slip road\": 7,\n",
        "                             \"More than 4 arms (not roundabout)\": 8,\n",
        "                             \"Mini-roundabout\": 9,\n",
        "                             \"Data missing or out of range\": 1 }}\n",
        "df.replace(encoding_junction_detail, inplace=True)\n",
        "df['Junction_Detail'].value_counts()"
      ]
    },
    {
      "cell_type": "code",
      "execution_count": null,
      "id": "1c04c450",
      "metadata": {
        "id": "1c04c450"
      },
      "outputs": [],
      "source": [
        "encoding_road_surface_cond = {\"Road_Surface_Conditions\":\n",
        "                            {\"Dry\": 1,\n",
        "                             \"Wet or damp\": 2,\n",
        "                             \"Frost or ice\": 3,\n",
        "                             \"Snow\": 4,\n",
        "                             \"Flood over 3cm. deep\": 5,\n",
        "                             \"Data missing or out of range\": 1 }}\n",
        "df.replace(encoding_road_surface_cond, inplace=True)\n",
        "df['Road_Surface_Conditions'].value_counts()"
      ]
    },
    {
      "cell_type": "code",
      "execution_count": null,
      "id": "03971e3f",
      "metadata": {
        "id": "03971e3f"
      },
      "outputs": [],
      "source": [
        "encoding_road_type = {\"Road_Type\":\n",
        "                            {\"Single carriageway\": 1,\n",
        "                             \"Dual carriageway\": 2,\n",
        "                             \"Roundabout\": 3,\n",
        "                             \"One way street\": 4,\n",
        "                             \"Slip road\": 5,\n",
        "                             \"Unknown\": 0,\n",
        "                             \"Data missing or out of range\": 1 }}\n",
        "df.replace(encoding_road_type, inplace=True)\n",
        "df['Road_Type'].value_counts()"
      ]
    },
    {
      "cell_type": "code",
      "execution_count": null,
      "id": "bc4d94ab",
      "metadata": {
        "id": "bc4d94ab"
      },
      "outputs": [],
      "source": [
        "encoding_urban_rural = {\"Urban_or_Rural_Area\":\n",
        "                            {\"Urban\": 1,\n",
        "                             \"Rural\": 2,\n",
        "                             \"Unallocated\": 1 }}\n",
        "df.replace(encoding_urban_rural, inplace=True)\n",
        "df['Urban_or_Rural_Area'].value_counts()"
      ]
    },
    {
      "cell_type": "code",
      "execution_count": null,
      "id": "b86be830",
      "metadata": {
        "id": "b86be830"
      },
      "outputs": [],
      "source": [
        "encoding_weather = {\"Weather_Conditions\":\n",
        "                            {\"Fine no high winds\": 1,\n",
        "                             \"Raining no high winds\": 2,\n",
        "                             \"Raining + high winds\": 3,\n",
        "                             \"Fine + high winds\": 4,\n",
        "                             \"Snowing no high winds\": 5,\n",
        "                             \"Fog or mist\": 6,\n",
        "                             \"Snowing + high winds\": 7,\n",
        "                             \"Unknown\": 1,\n",
        "                             \"Other\": 1,\n",
        "                             \"Data missing or out of range\": 1 }}\n",
        "df.replace(encoding_weather, inplace=True)\n",
        "df['Weather_Conditions'].value_counts()"
      ]
    },
    {
      "cell_type": "code",
      "execution_count": null,
      "id": "4c24c016",
      "metadata": {
        "id": "4c24c016"
      },
      "outputs": [],
      "source": [
        "np.where(np.isnan(df['Speed_limit']))"
      ]
    },
    {
      "cell_type": "code",
      "execution_count": null,
      "id": "bdb825d6",
      "metadata": {
        "id": "bdb825d6"
      },
      "outputs": [],
      "source": [
        "df['Speed_limit'].fillna((df['Speed_limit'].mean()), inplace=True)"
      ]
    },
    {
      "cell_type": "code",
      "execution_count": null,
      "id": "a1c7e1f3",
      "metadata": {
        "id": "a1c7e1f3"
      },
      "outputs": [],
      "source": [
        "df['Time'].fillna(0, inplace=True)"
      ]
    },
    {
      "cell_type": "code",
      "execution_count": null,
      "id": "a4ad6ab0",
      "metadata": {
        "id": "a4ad6ab0"
      },
      "outputs": [],
      "source": [
        "def period(row):\n",
        "    rdf = []\n",
        "    if(type(row) == float):\n",
        "        row = str(row)\n",
        "        rdf = row.split(\".\")\n",
        "    else:\n",
        "        rdf = str(row).split(\":\"); # day -- 8am-8pm\n",
        "\n",
        "    hr = rdf[0]\n",
        "    if int(hr) > 8 and int(hr) < 20:\n",
        "        return 1;\n",
        "    else:\n",
        "        return 2;"
      ]
    },
    {
      "cell_type": "code",
      "execution_count": null,
      "id": "a0cb6729",
      "metadata": {
        "id": "a0cb6729"
      },
      "outputs": [],
      "source": [
        "df['Time'] = df['Time'].apply(period)"
      ]
    },
    {
      "cell_type": "code",
      "execution_count": null,
      "id": "1f08e8ed",
      "metadata": {
        "id": "1f08e8ed"
      },
      "outputs": [],
      "source": [
        "df_train1 = df[['1st_Road_Class','Carriageway_Hazards','Junction_Control','Day_of_Week','Junction_Detail','Light_Conditions','Road_Surface_Conditions','Road_Type','Special_Conditions_at_Site','Speed_limit','Time','Urban_or_Rural_Area','Weather_Conditions','Accident_Severity']]"
      ]
    },
    {
      "cell_type": "code",
      "execution_count": null,
      "id": "cd1fa0f7",
      "metadata": {
        "id": "cd1fa0f7"
      },
      "outputs": [],
      "source": [
        "df_slight = df_train1[df_train1['Accident_Severity']=='Slight']"
      ]
    },
    {
      "cell_type": "code",
      "execution_count": null,
      "id": "65ab899c",
      "metadata": {
        "id": "65ab899c"
      },
      "outputs": [],
      "source": [
        "df_serious = df_train1[df_train1['Accident_Severity']=='Serious']"
      ]
    },
    {
      "cell_type": "code",
      "execution_count": null,
      "id": "2107ebfb",
      "metadata": {
        "id": "2107ebfb"
      },
      "outputs": [],
      "source": [
        "df_fatal = df_train1[df_train1['Accident_Severity']=='Fatal']"
      ]
    },
    {
      "cell_type": "code",
      "execution_count": null,
      "id": "47717e07",
      "metadata": {
        "id": "47717e07"
      },
      "outputs": [],
      "source": [
        "df_serious['Accident_Severity'].value_counts()"
      ]
    },
    {
      "cell_type": "code",
      "execution_count": null,
      "id": "d5a8c620",
      "metadata": {
        "id": "d5a8c620"
      },
      "outputs": [],
      "source": [
        "random_subset = df_slight.sample(n=3)\n",
        "random_subset.head()"
      ]
    },
    {
      "cell_type": "code",
      "execution_count": null,
      "id": "7bfc7a26",
      "metadata": {
        "id": "7bfc7a26"
      },
      "outputs": [],
      "source": [
        "df_fatal['Accident_Severity'].value_counts()"
      ]
    },
    {
      "cell_type": "code",
      "execution_count": null,
      "id": "d8f0ca80",
      "metadata": {
        "id": "d8f0ca80"
      },
      "outputs": [],
      "source": [
        "df_slight_sampling = df_slight.sample(n=45000)  #Matched the combined number of records for Fatal and Serious(As we are going to club fatal&serious to Serious)"
      ]
    },
    {
      "cell_type": "code",
      "execution_count": null,
      "id": "c4f4327e",
      "metadata": {
        "id": "c4f4327e"
      },
      "outputs": [],
      "source": [
        "df_serious_sampling = df_serious.sample(n=24693)  #Matched number of records with the rarer class (Fatal#24693)"
      ]
    },
    {
      "cell_type": "code",
      "execution_count": null,
      "id": "305b368f",
      "metadata": {
        "id": "305b368f"
      },
      "outputs": [],
      "source": [
        "df_final_sampling = pd.concat([df_serious_sampling,df_slight_sampling,df_fatal])"
      ]
    },
    {
      "cell_type": "code",
      "execution_count": null,
      "id": "17cbfa5a",
      "metadata": {
        "id": "17cbfa5a"
      },
      "outputs": [],
      "source": [
        "df_final_sampling.head()"
      ]
    },
    {
      "cell_type": "code",
      "execution_count": null,
      "id": "df22c428",
      "metadata": {
        "id": "df22c428"
      },
      "outputs": [],
      "source": [
        "df_test = df_final_sampling[['Accident_Severity']]"
      ]
    },
    {
      "cell_type": "code",
      "execution_count": null,
      "id": "ccedecc8",
      "metadata": {
        "id": "ccedecc8"
      },
      "outputs": [],
      "source": [
        "#replacing 'Data missing or out of range' with most occured value 'None'\n",
        "df_test['Accident_Severity'] = df_test['Accident_Severity'].replace(['Fatal'], 'Serious')"
      ]
    },
    {
      "cell_type": "code",
      "execution_count": null,
      "id": "9fcf2518",
      "metadata": {
        "id": "9fcf2518"
      },
      "outputs": [],
      "source": [
        "df_train = df_final_sampling[['1st_Road_Class','Carriageway_Hazards','Junction_Control','Day_of_Week','Junction_Detail','Light_Conditions','Road_Surface_Conditions','Road_Type','Special_Conditions_at_Site','Speed_limit','Time','Urban_or_Rural_Area','Weather_Conditions']]"
      ]
    },
    {
      "cell_type": "code",
      "execution_count": null,
      "id": "ca6f8c23",
      "metadata": {
        "id": "ca6f8c23"
      },
      "outputs": [],
      "source": [
        "df_test['Accident_Severity'].value_counts()"
      ]
    },
    {
      "cell_type": "code",
      "execution_count": null,
      "id": "a806ef66",
      "metadata": {
        "id": "a806ef66"
      },
      "outputs": [],
      "source": [
        "df_test['Accident_Severity'].value_counts()"
      ]
    },
    {
      "cell_type": "code",
      "execution_count": null,
      "id": "2624c401",
      "metadata": {
        "id": "2624c401"
      },
      "outputs": [],
      "source": [
        "from sklearn.preprocessing import LabelEncoder\n",
        "le = LabelEncoder()\n",
        "df_test['Accident_Severity'] = le.fit_transform(df_test['Accident_Severity'])\n",
        "df_test"
      ]
    },
    {
      "cell_type": "code",
      "execution_count": null,
      "id": "49c9afbb",
      "metadata": {
        "id": "49c9afbb"
      },
      "outputs": [],
      "source": [
        "from sklearn.model_selection import train_test_split\n",
        "X_train, X_test, y_train, y_test = train_test_split(df_train, df_test, test_size=0.2)"
      ]
    },
    {
      "cell_type": "code",
      "execution_count": null,
      "id": "fde3aa65",
      "metadata": {
        "id": "fde3aa65",
        "colab": {
          "base_uri": "https://localhost:8080/",
          "height": 211
        },
        "outputId": "17637835-0822-4814-e9eb-235fcdd5b316"
      },
      "outputs": [
        {
          "output_type": "error",
          "ename": "NameError",
          "evalue": "name 'Sequential' is not defined",
          "traceback": [
            "\u001b[0;31m---------------------------------------------------------------------------\u001b[0m",
            "\u001b[0;31mNameError\u001b[0m                                 Traceback (most recent call last)",
            "\u001b[0;32m<ipython-input-1-5a85826e4ba1>\u001b[0m in \u001b[0;36m<cell line: 1>\u001b[0;34m()\u001b[0m\n\u001b[0;32m----> 1\u001b[0;31m \u001b[0mclassifier\u001b[0m \u001b[0;34m=\u001b[0m \u001b[0mSequential\u001b[0m\u001b[0;34m(\u001b[0m\u001b[0;34m)\u001b[0m\u001b[0;34m\u001b[0m\u001b[0;34m\u001b[0m\u001b[0m\n\u001b[0m\u001b[1;32m      2\u001b[0m \u001b[0;31m# Adding the input layer and the first hidden layer\u001b[0m\u001b[0;34m\u001b[0m\u001b[0;34m\u001b[0m\u001b[0m\n\u001b[1;32m      3\u001b[0m \u001b[0mclassifier\u001b[0m\u001b[0;34m.\u001b[0m\u001b[0madd\u001b[0m\u001b[0;34m(\u001b[0m\u001b[0mDense\u001b[0m\u001b[0;34m(\u001b[0m\u001b[0munits\u001b[0m \u001b[0;34m=\u001b[0m \u001b[0;36m6\u001b[0m\u001b[0;34m,\u001b[0m \u001b[0mkernel_initializer\u001b[0m \u001b[0;34m=\u001b[0m \u001b[0;34m'uniform'\u001b[0m\u001b[0;34m,\u001b[0m \u001b[0mactivation\u001b[0m \u001b[0;34m=\u001b[0m \u001b[0;34m'relu'\u001b[0m\u001b[0;34m,\u001b[0m \u001b[0minput_dim\u001b[0m \u001b[0;34m=\u001b[0m \u001b[0;36m13\u001b[0m\u001b[0;34m)\u001b[0m\u001b[0;34m)\u001b[0m\u001b[0;34m\u001b[0m\u001b[0;34m\u001b[0m\u001b[0m\n\u001b[1;32m      4\u001b[0m \u001b[0;34m\u001b[0m\u001b[0m\n\u001b[1;32m      5\u001b[0m \u001b[0;31m# Adding the second hidden layer\u001b[0m\u001b[0;34m\u001b[0m\u001b[0;34m\u001b[0m\u001b[0m\n",
            "\u001b[0;31mNameError\u001b[0m: name 'Sequential' is not defined"
          ]
        }
      ],
      "source": [
        "classifier = Sequential()\n",
        "# Adding the input layer and the first hidden layer\n",
        "classifier.add(Dense(units = 6, kernel_initializer = 'uniform', activation = 'relu', input_dim = 13))\n",
        "\n",
        "# Adding the second hidden layer\n",
        "classifier.add(Dense(units = 6, kernel_initializer = 'uniform', activation = 'relu'))\n",
        "\n",
        "# Adding the output layer\n",
        "classifier.add(Dense(units = 1, kernel_initializer = 'uniform', activation = 'sigmoid'))\n",
        "\n",
        "# Compiling the ANN | means applying SGD on the whole ANN\n",
        "classifier.compile(optimizer = 'adam', loss = 'binary_crossentropy', metrics = ['accuracy'])\n",
        "\n",
        "# Fitting the ANN to the Training set\n",
        "classifier.fit(X_train, y_train, batch_size = 10, epochs = 100,verbose = 1)\n",
        "\n",
        "score, acc = classifier.evaluate(X_train, y_train,\n",
        "                            batch_size=10)\n",
        "print('Train score:', score)\n",
        "print('Train accuracy:', acc)"
      ]
    },
    {
      "cell_type": "code",
      "execution_count": null,
      "id": "1cd2a6da",
      "metadata": {
        "id": "1cd2a6da"
      },
      "outputs": [],
      "source": [
        "y_pred=classifier.predict(X_test)\n",
        "y_pred = [1 if i>0.5 else 0 for i in y_pred]"
      ]
    },
    {
      "cell_type": "code",
      "execution_count": null,
      "id": "e60b7840",
      "metadata": {
        "id": "e60b7840"
      },
      "outputs": [],
      "source": [
        "confusion_matrix(y_test, y_pred)\n"
      ]
    },
    {
      "cell_type": "code",
      "execution_count": null,
      "id": "864895d4",
      "metadata": {
        "colab": {
          "base_uri": "https://localhost:8080/",
          "height": 141
        },
        "id": "864895d4",
        "outputId": "1b744220-223f-49ec-e501-a20670029cca"
      },
      "outputs": [
        {
          "output_type": "error",
          "ename": "NameError",
          "evalue": "name 'y_test' is not defined",
          "traceback": [
            "\u001b[0;31m---------------------------------------------------------------------------\u001b[0m",
            "\u001b[0;31mNameError\u001b[0m                                 Traceback (most recent call last)",
            "\u001b[0;32m<ipython-input-3-e7622b950e3d>\u001b[0m in \u001b[0;36m<cell line: 1>\u001b[0;34m()\u001b[0m\n\u001b[0;32m----> 1\u001b[0;31m \u001b[0mprint\u001b[0m\u001b[0;34m(\u001b[0m\u001b[0mclassification_report\u001b[0m\u001b[0;34m(\u001b[0m\u001b[0my_test\u001b[0m\u001b[0;34m,\u001b[0m \u001b[0my_pred\u001b[0m\u001b[0;34m)\u001b[0m\u001b[0;34m)\u001b[0m\u001b[0;34m\u001b[0m\u001b[0;34m\u001b[0m\u001b[0m\n\u001b[0m",
            "\u001b[0;31mNameError\u001b[0m: name 'y_test' is not defined"
          ]
        }
      ],
      "source": [
        "print(classification_report(y_test, y_pred))"
      ]
    },
    {
      "cell_type": "code",
      "execution_count": null,
      "id": "4936481e",
      "metadata": {
        "id": "4936481e"
      },
      "outputs": [],
      "source": []
    },
    {
      "cell_type": "markdown",
      "id": "4d062b34",
      "metadata": {
        "id": "4d062b34"
      },
      "source": [
        "# predictions"
      ]
    },
    {
      "cell_type": "code",
      "execution_count": null,
      "id": "bd23d79c",
      "metadata": {
        "id": "bd23d79c"
      },
      "outputs": [],
      "source": [
        "# df_train = df_final_sampling[['1st_Road_Class','Carriageway_Hazards','Junction_Control','Day_of_Week','Junction_Detail','Light_Conditions','Road_Surface_Conditions','Road_Type','Special_Conditions_at_Site','Speed_limit','Time','Urban_or_Rural_Area','Weather_Conditions']]"
      ]
    },
    {
      "cell_type": "code",
      "execution_count": null,
      "id": "fdd0d354",
      "metadata": {
        "id": "fdd0d354"
      },
      "outputs": [],
      "source": []
    },
    {
      "cell_type": "markdown",
      "id": "e2814cbc",
      "metadata": {
        "id": "e2814cbc"
      },
      "source": [
        "# Final predicitons"
      ]
    },
    {
      "cell_type": "code",
      "execution_count": null,
      "id": "5668bc67",
      "metadata": {
        "id": "5668bc67"
      },
      "outputs": [],
      "source": [
        "\n",
        "\n",
        "road_cross =  1           # give 1 or 2 or 3 or 4\n",
        "carriage_hazard =  0      # give 0 or 1\n",
        "Junction_control = 1      # [1 2 3 4 5]\n",
        "dayofweek =  0            # [0 1]\n",
        "jn_detail =  5            # [ 1 2 3 4 5 6 7 8 9 ]\n",
        "light_conditions = 1           # [1 0]\n",
        "road_surf_cond = 2           # [1 2 3 4 5 ]\n",
        "road_type = 1            # [0 1 2 3 4 5]\n",
        "spl_cond_at_site = 0            #[ 0 1 ]\n",
        "speed_lim = 30.0          # [10   20  30  40  50  60 70  ]\n",
        "time =  2              #       [ 1  2 ]\n",
        "urban_or_rural =  1             #[ 1  2]\n",
        "weather_cond = 1            # [1 4 5 2 3 6 7]\n",
        "\n",
        "\n"
      ]
    },
    {
      "cell_type": "code",
      "execution_count": null,
      "id": "88f3ca9a",
      "metadata": {
        "id": "88f3ca9a"
      },
      "outputs": [],
      "source": [
        "dd = pd.DataFrame({'1st_Road_Class':[road_cross],'Carriageway_Hazards':[carriage_hazard],\n",
        "                   'Junction_Control':[Junction_control],'Day_of_Week':[dayofweek],\n",
        "                   'Junction_Detail':[jn_detail],'Light_Conditions':[light_conditions],\n",
        "                   'Road_Surface_Conditions':[road_surf_cond],'Road_Type':[road_type],\n",
        "                   'Special_Conditions_at_Site':[spl_cond_at_site],'Speed_limit':[speed_lim],\n",
        "                   'Time':[time],'Urban_or_Rural_Area':[urban_or_rural],'Weather_Conditions':[weather_cond]})\n",
        "dd"
      ]
    },
    {
      "cell_type": "code",
      "execution_count": null,
      "id": "695fb372",
      "metadata": {
        "id": "695fb372"
      },
      "outputs": [],
      "source": [
        "final_pred=classifier.predict(dd)\n",
        "final_pred = [1 if i>0.5 else 0 for i in final_pred]\n",
        "\n",
        "if final_pred[0]==0:\n",
        "    print(\"accident severity serious\")\n",
        "else:\n",
        "    print(\"accident severity slight \")"
      ]
    },
    {
      "cell_type": "code",
      "execution_count": null,
      "id": "92fa4500",
      "metadata": {
        "id": "92fa4500"
      },
      "outputs": [],
      "source": []
    }
  ],
  "metadata": {
    "kernelspec": {
      "display_name": "Python 3",
      "language": "python",
      "name": "python3"
    },
    "language_info": {
      "codemirror_mode": {
        "name": "ipython",
        "version": 3
      },
      "file_extension": ".py",
      "mimetype": "text/x-python",
      "name": "python",
      "nbconvert_exporter": "python",
      "pygments_lexer": "ipython3",
      "version": "3.8.8"
    },
    "colab": {
      "provenance": [],
      "toc_visible": true
    }
  },
  "nbformat": 4,
  "nbformat_minor": 5
}